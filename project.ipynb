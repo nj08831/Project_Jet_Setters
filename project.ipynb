{
 "cells": [
  {
   "cell_type": "code",
   "execution_count": 1,
   "metadata": {},
   "outputs": [
    {
     "data": {
      "text/html": [
       "<div>\n",
       "<style scoped>\n",
       "    .dataframe tbody tr th:only-of-type {\n",
       "        vertical-align: middle;\n",
       "    }\n",
       "\n",
       "    .dataframe tbody tr th {\n",
       "        vertical-align: top;\n",
       "    }\n",
       "\n",
       "    .dataframe thead th {\n",
       "        text-align: right;\n",
       "    }\n",
       "</style>\n",
       "<table border=\"1\" class=\"dataframe\">\n",
       "  <thead>\n",
       "    <tr style=\"text-align: right;\">\n",
       "      <th></th>\n",
       "      <th>area_name</th>\n",
       "      <th>occ_code</th>\n",
       "      <th>occ_title</th>\n",
       "      <th>tot_emp</th>\n",
       "      <th>a_mean</th>\n",
       "      <th>Year</th>\n",
       "    </tr>\n",
       "  </thead>\n",
       "  <tbody>\n",
       "    <tr>\n",
       "      <th>0</th>\n",
       "      <td>Seattle-Bellevue-Everett, WA PMSA</td>\n",
       "      <td>11-0000</td>\n",
       "      <td>Management Occupations</td>\n",
       "      <td>75900</td>\n",
       "      <td>76940</td>\n",
       "      <td>1999</td>\n",
       "    </tr>\n",
       "    <tr>\n",
       "      <th>1</th>\n",
       "      <td>Seattle-Bellevue-Everett, WA PMSA</td>\n",
       "      <td>13-0000</td>\n",
       "      <td>Business and Financial Operations Occupations</td>\n",
       "      <td>72680</td>\n",
       "      <td>52140</td>\n",
       "      <td>1999</td>\n",
       "    </tr>\n",
       "    <tr>\n",
       "      <th>2</th>\n",
       "      <td>Seattle-Bellevue-Everett, WA PMSA</td>\n",
       "      <td>15-0000</td>\n",
       "      <td>Computer and Mathematical Occupations</td>\n",
       "      <td>66300</td>\n",
       "      <td>57190</td>\n",
       "      <td>1999</td>\n",
       "    </tr>\n",
       "    <tr>\n",
       "      <th>3</th>\n",
       "      <td>Seattle-Bellevue-Everett, WA PMSA</td>\n",
       "      <td>17-0000</td>\n",
       "      <td>Architecture and Engineering Occupations</td>\n",
       "      <td>54930</td>\n",
       "      <td>59150</td>\n",
       "      <td>1999</td>\n",
       "    </tr>\n",
       "    <tr>\n",
       "      <th>4</th>\n",
       "      <td>Seattle-Bellevue-Everett, WA PMSA</td>\n",
       "      <td>19-0000</td>\n",
       "      <td>Life, Physical, and Social Science Occupations</td>\n",
       "      <td>17330</td>\n",
       "      <td>49190</td>\n",
       "      <td>1999</td>\n",
       "    </tr>\n",
       "  </tbody>\n",
       "</table>\n",
       "</div>"
      ],
      "text/plain": [
       "                           area_name occ_code  \\\n",
       "0  Seattle-Bellevue-Everett, WA PMSA  11-0000   \n",
       "1  Seattle-Bellevue-Everett, WA PMSA  13-0000   \n",
       "2  Seattle-Bellevue-Everett, WA PMSA  15-0000   \n",
       "3  Seattle-Bellevue-Everett, WA PMSA  17-0000   \n",
       "4  Seattle-Bellevue-Everett, WA PMSA  19-0000   \n",
       "\n",
       "                                        occ_title  tot_emp  a_mean  Year  \n",
       "0                          Management Occupations    75900   76940  1999  \n",
       "1   Business and Financial Operations Occupations    72680   52140  1999  \n",
       "2           Computer and Mathematical Occupations    66300   57190  1999  \n",
       "3        Architecture and Engineering Occupations    54930   59150  1999  \n",
       "4  Life, Physical, and Social Science Occupations    17330   49190  1999  "
      ]
     },
     "execution_count": 1,
     "metadata": {},
     "output_type": "execute_result"
    }
   ],
   "source": [
    "%matplotlib inline\n",
    "# Dependencies and Setup\n",
    "import matplotlib.pyplot as plt\n",
    "import pandas as pd\n",
    "import numpy as np\n",
    "\n",
    "# File to Load \n",
    "data = \"occupation_data.csv\"\n",
    "\n",
    "\n",
    "# Read the Data\n",
    "data_df = pd.read_csv(data)\n",
    "data_df.head()\n",
    "\n",
    "\n",
    "# remove redundant columns \n",
    "data_df.drop(['group', 'AREA_TYPE','NAICS','NAICS_TITLE','NAICS_TITLE','OWN_CODE'], axis=1, inplace=True)\n",
    "data_df.head()\n"
   ]
  },
  {
   "cell_type": "code",
   "execution_count": 2,
   "metadata": {},
   "outputs": [
    {
     "data": {
      "text/html": [
       "<div>\n",
       "<style scoped>\n",
       "    .dataframe tbody tr th:only-of-type {\n",
       "        vertical-align: middle;\n",
       "    }\n",
       "\n",
       "    .dataframe tbody tr th {\n",
       "        vertical-align: top;\n",
       "    }\n",
       "\n",
       "    .dataframe thead th {\n",
       "        text-align: right;\n",
       "    }\n",
       "</style>\n",
       "<table border=\"1\" class=\"dataframe\">\n",
       "  <thead>\n",
       "    <tr style=\"text-align: right;\">\n",
       "      <th></th>\n",
       "      <th>Occupation_Category_Code</th>\n",
       "      <th>Occupation_Category_Name</th>\n",
       "      <th>Year</th>\n",
       "      <th>Geographical_Area_Name</th>\n",
       "      <th>Total_Employees_Per_Category</th>\n",
       "      <th>Mean_Annual_Salary</th>\n",
       "    </tr>\n",
       "  </thead>\n",
       "  <tbody>\n",
       "    <tr>\n",
       "      <th>0</th>\n",
       "      <td>11-0000</td>\n",
       "      <td>Management Occupations</td>\n",
       "      <td>1999</td>\n",
       "      <td>Seattle-Bellevue-Everett, WA PMSA</td>\n",
       "      <td>75900</td>\n",
       "      <td>76940</td>\n",
       "    </tr>\n",
       "    <tr>\n",
       "      <th>1</th>\n",
       "      <td>13-0000</td>\n",
       "      <td>Business and Financial Operations Occupations</td>\n",
       "      <td>1999</td>\n",
       "      <td>Seattle-Bellevue-Everett, WA PMSA</td>\n",
       "      <td>72680</td>\n",
       "      <td>52140</td>\n",
       "    </tr>\n",
       "    <tr>\n",
       "      <th>2</th>\n",
       "      <td>15-0000</td>\n",
       "      <td>Computer and Mathematical Occupations</td>\n",
       "      <td>1999</td>\n",
       "      <td>Seattle-Bellevue-Everett, WA PMSA</td>\n",
       "      <td>66300</td>\n",
       "      <td>57190</td>\n",
       "    </tr>\n",
       "    <tr>\n",
       "      <th>3</th>\n",
       "      <td>17-0000</td>\n",
       "      <td>Architecture and Engineering Occupations</td>\n",
       "      <td>1999</td>\n",
       "      <td>Seattle-Bellevue-Everett, WA PMSA</td>\n",
       "      <td>54930</td>\n",
       "      <td>59150</td>\n",
       "    </tr>\n",
       "    <tr>\n",
       "      <th>4</th>\n",
       "      <td>19-0000</td>\n",
       "      <td>Life, Physical, and Social Science Occupations</td>\n",
       "      <td>1999</td>\n",
       "      <td>Seattle-Bellevue-Everett, WA PMSA</td>\n",
       "      <td>17330</td>\n",
       "      <td>49190</td>\n",
       "    </tr>\n",
       "  </tbody>\n",
       "</table>\n",
       "</div>"
      ],
      "text/plain": [
       "  Occupation_Category_Code                        Occupation_Category_Name  \\\n",
       "0                  11-0000                          Management Occupations   \n",
       "1                  13-0000   Business and Financial Operations Occupations   \n",
       "2                  15-0000           Computer and Mathematical Occupations   \n",
       "3                  17-0000        Architecture and Engineering Occupations   \n",
       "4                  19-0000  Life, Physical, and Social Science Occupations   \n",
       "\n",
       "   Year             Geographical_Area_Name  Total_Employees_Per_Category  \\\n",
       "0  1999  Seattle-Bellevue-Everett, WA PMSA                         75900   \n",
       "1  1999  Seattle-Bellevue-Everett, WA PMSA                         72680   \n",
       "2  1999  Seattle-Bellevue-Everett, WA PMSA                         66300   \n",
       "3  1999  Seattle-Bellevue-Everett, WA PMSA                         54930   \n",
       "4  1999  Seattle-Bellevue-Everett, WA PMSA                         17330   \n",
       "\n",
       "   Mean_Annual_Salary  \n",
       "0               76940  \n",
       "1               52140  \n",
       "2               57190  \n",
       "3               59150  \n",
       "4               49190  "
      ]
     },
     "execution_count": 2,
     "metadata": {},
     "output_type": "execute_result"
    }
   ],
   "source": [
    "# rename columns \n",
    "renamed_df = data_df.rename(columns={\"a_mean\":\"Mean_Annual_Salary\",\n",
    "                                     \"tot_emp\":\"Total_Employees_Per_Category\",\n",
    "                                     \"occ_title\":\"Occupation_Category_Name\" , \n",
    "                                     \"occ_code\":\"Occupation_Category_Code\" ,\n",
    "                                    \"area_name\":\"Geographical_Area_Name\" })\n",
    "organized_df = renamed_df[[\n",
    "                           \"Occupation_Category_Code\",\n",
    "                           \"Occupation_Category_Name\",\n",
    "                           \"Year\",\n",
    "                           \"Geographical_Area_Name\",\n",
    "                           \"Total_Employees_Per_Category\",\n",
    "                            \"Mean_Annual_Salary\"\n",
    "                            ]]\n",
    "organized_df.head()\n",
    "\n"
   ]
  },
  {
   "cell_type": "code",
   "execution_count": 3,
   "metadata": {},
   "outputs": [
    {
     "data": {
      "text/plain": [
       "Occupation_Category_Code        310\n",
       "Occupation_Category_Name        310\n",
       "Year                            310\n",
       "Geographical_Area_Name          310\n",
       "Total_Employees_Per_Category    310\n",
       "Mean_Annual_Salary              310\n",
       "dtype: int64"
      ]
     },
     "execution_count": 3,
     "metadata": {},
     "output_type": "execute_result"
    }
   ],
   "source": [
    "# Identify incomplete rows\n",
    "organized_df.count()"
   ]
  },
  {
   "cell_type": "code",
   "execution_count": 4,
   "metadata": {},
   "outputs": [
    {
     "data": {
      "text/plain": [
       "Occupation_Category_Code        object\n",
       "Occupation_Category_Name        object\n",
       "Year                             int64\n",
       "Geographical_Area_Name          object\n",
       "Total_Employees_Per_Category     int64\n",
       "Mean_Annual_Salary               int64\n",
       "dtype: object"
      ]
     },
     "execution_count": 4,
     "metadata": {},
     "output_type": "execute_result"
    }
   ],
   "source": [
    "organized_df.dtypes"
   ]
  },
  {
   "cell_type": "code",
   "execution_count": 5,
   "metadata": {},
   "outputs": [
    {
     "data": {
      "text/plain": [
       "Occupation_Category_Code        object\n",
       "Occupation_Category_Name        object\n",
       "Year                            object\n",
       "Geographical_Area_Name          object\n",
       "Total_Employees_Per_Category     int64\n",
       "Mean_Annual_Salary               int64\n",
       "dtype: object"
      ]
     },
     "execution_count": 5,
     "metadata": {},
     "output_type": "execute_result"
    }
   ],
   "source": [
    "organized_df.Year = organized_df.Year.astype(str)\n",
    "organized_df.dtypes"
   ]
  },
  {
   "cell_type": "code",
   "execution_count": 6,
   "metadata": {},
   "outputs": [
    {
     "data": {
      "text/html": [
       "<div>\n",
       "<style scoped>\n",
       "    .dataframe tbody tr th:only-of-type {\n",
       "        vertical-align: middle;\n",
       "    }\n",
       "\n",
       "    .dataframe tbody tr th {\n",
       "        vertical-align: top;\n",
       "    }\n",
       "\n",
       "    .dataframe thead th {\n",
       "        text-align: right;\n",
       "    }\n",
       "</style>\n",
       "<table border=\"1\" class=\"dataframe\">\n",
       "  <thead>\n",
       "    <tr style=\"text-align: right;\">\n",
       "      <th></th>\n",
       "      <th>Occupation_Category_Code</th>\n",
       "      <th>Occupation_Category_Name</th>\n",
       "      <th>Year</th>\n",
       "      <th>Geographical_Area_Name</th>\n",
       "      <th>Total_Employees_Per_Category</th>\n",
       "      <th>Mean_Annual_Salary</th>\n",
       "    </tr>\n",
       "  </thead>\n",
       "  <tbody>\n",
       "    <tr>\n",
       "      <th>0</th>\n",
       "      <td>11-0000</td>\n",
       "      <td>Management Occupations</td>\n",
       "      <td>1999</td>\n",
       "      <td>Seattle-Bellevue-Everett, WA PMSA</td>\n",
       "      <td>75900</td>\n",
       "      <td>76940</td>\n",
       "    </tr>\n",
       "    <tr>\n",
       "      <th>1</th>\n",
       "      <td>13-0000</td>\n",
       "      <td>Business and Financial Operations Occupations</td>\n",
       "      <td>1999</td>\n",
       "      <td>Seattle-Bellevue-Everett, WA PMSA</td>\n",
       "      <td>72680</td>\n",
       "      <td>52140</td>\n",
       "    </tr>\n",
       "    <tr>\n",
       "      <th>2</th>\n",
       "      <td>15-0000</td>\n",
       "      <td>Computer and Mathematical Occupations</td>\n",
       "      <td>1999</td>\n",
       "      <td>Seattle-Bellevue-Everett, WA PMSA</td>\n",
       "      <td>66300</td>\n",
       "      <td>57190</td>\n",
       "    </tr>\n",
       "    <tr>\n",
       "      <th>3</th>\n",
       "      <td>17-0000</td>\n",
       "      <td>Architecture and Engineering Occupations</td>\n",
       "      <td>1999</td>\n",
       "      <td>Seattle-Bellevue-Everett, WA PMSA</td>\n",
       "      <td>54930</td>\n",
       "      <td>59150</td>\n",
       "    </tr>\n",
       "    <tr>\n",
       "      <th>4</th>\n",
       "      <td>19-0000</td>\n",
       "      <td>Life, Physical, and Social Science Occupations</td>\n",
       "      <td>1999</td>\n",
       "      <td>Seattle-Bellevue-Everett, WA PMSA</td>\n",
       "      <td>17330</td>\n",
       "      <td>49190</td>\n",
       "    </tr>\n",
       "  </tbody>\n",
       "</table>\n",
       "</div>"
      ],
      "text/plain": [
       "  Occupation_Category_Code                        Occupation_Category_Name  \\\n",
       "0                  11-0000                          Management Occupations   \n",
       "1                  13-0000   Business and Financial Operations Occupations   \n",
       "2                  15-0000           Computer and Mathematical Occupations   \n",
       "3                  17-0000        Architecture and Engineering Occupations   \n",
       "4                  19-0000  Life, Physical, and Social Science Occupations   \n",
       "\n",
       "   Year             Geographical_Area_Name  Total_Employees_Per_Category  \\\n",
       "0  1999  Seattle-Bellevue-Everett, WA PMSA                         75900   \n",
       "1  1999  Seattle-Bellevue-Everett, WA PMSA                         72680   \n",
       "2  1999  Seattle-Bellevue-Everett, WA PMSA                         66300   \n",
       "3  1999  Seattle-Bellevue-Everett, WA PMSA                         54930   \n",
       "4  1999  Seattle-Bellevue-Everett, WA PMSA                         17330   \n",
       "\n",
       "   Mean_Annual_Salary  \n",
       "0               76940  \n",
       "1               52140  \n",
       "2               57190  \n",
       "3               59150  \n",
       "4               49190  "
      ]
     },
     "execution_count": 6,
     "metadata": {},
     "output_type": "execute_result"
    }
   ],
   "source": [
    "organized_df.head()"
   ]
  },
  {
   "cell_type": "code",
   "execution_count": 7,
   "metadata": {},
   "outputs": [
    {
     "data": {
      "text/plain": [
       "35-0000    14\n",
       "15-0000    14\n",
       "41-0000    14\n",
       "13-0000    14\n",
       "27-0000    14\n",
       "17-0000    14\n",
       "23-0000    14\n",
       "19-0000    14\n",
       "45-0000    14\n",
       "51-0000    14\n",
       "21-0000    14\n",
       "49-0000    14\n",
       "47-0000    14\n",
       "31-0000    14\n",
       "53-0000    14\n",
       "25-0000    14\n",
       "33-0000    14\n",
       "43-0000    14\n",
       "11-0000    14\n",
       "29-0000    14\n",
       "39-0000    14\n",
       "37-0000    14\n",
       "00-0000     2\n",
       "Name: Occupation_Category_Code, dtype: int64"
      ]
     },
     "execution_count": 7,
     "metadata": {},
     "output_type": "execute_result"
    }
   ],
   "source": [
    "organized_df['Occupation_Category_Code'].value_counts()"
   ]
  },
  {
   "cell_type": "code",
   "execution_count": 8,
   "metadata": {},
   "outputs": [
    {
     "data": {
      "text/plain": [
       "35-0000    14\n",
       "47-0000    14\n",
       "41-0000    14\n",
       "13-0000    14\n",
       "27-0000    14\n",
       "17-0000    14\n",
       "23-0000    14\n",
       "19-0000    14\n",
       "45-0000    14\n",
       "51-0000    14\n",
       "21-0000    14\n",
       "15-0000    14\n",
       "49-0000    14\n",
       "31-0000    14\n",
       "53-0000    14\n",
       "25-0000    14\n",
       "33-0000    14\n",
       "43-0000    14\n",
       "11-0000    14\n",
       "29-0000    14\n",
       "39-0000    14\n",
       "37-0000    14\n",
       "Name: Occupation_Category_Code, dtype: int64"
      ]
     },
     "execution_count": 8,
     "metadata": {},
     "output_type": "execute_result"
    }
   ],
   "source": [
    "organized_df= organized_df[organized_df.Occupation_Category_Code != '00-0000']\n",
    "organized_df['Occupation_Category_Code'].value_counts()"
   ]
  },
  {
   "cell_type": "code",
   "execution_count": 9,
   "metadata": {},
   "outputs": [
    {
     "data": {
      "text/plain": [
       "US                                                    154\n",
       "Seattle-Bellevue-Everett, WA Metropolitan Division     88\n",
       "Seattle-Bellevue-Everett, WA PMSA                      44\n",
       "Seattle-Tacoma-Bellevue, WA                            22\n",
       "Name: Geographical_Area_Name, dtype: int64"
      ]
     },
     "execution_count": 9,
     "metadata": {},
     "output_type": "execute_result"
    }
   ],
   "source": [
    "organized_df['Geographical_Area_Name'].value_counts()"
   ]
  },
  {
   "cell_type": "code",
   "execution_count": 10,
   "metadata": {},
   "outputs": [
    {
     "data": {
      "text/html": [
       "<div>\n",
       "<style scoped>\n",
       "    .dataframe tbody tr th:only-of-type {\n",
       "        vertical-align: middle;\n",
       "    }\n",
       "\n",
       "    .dataframe tbody tr th {\n",
       "        vertical-align: top;\n",
       "    }\n",
       "\n",
       "    .dataframe thead th {\n",
       "        text-align: right;\n",
       "    }\n",
       "</style>\n",
       "<table border=\"1\" class=\"dataframe\">\n",
       "  <thead>\n",
       "    <tr style=\"text-align: right;\">\n",
       "      <th></th>\n",
       "      <th>Occupation_Category_Code</th>\n",
       "      <th>Occupation_Category_Name</th>\n",
       "      <th>Year</th>\n",
       "      <th>Geographical_Area_Name</th>\n",
       "      <th>Total_Employees_Per_Category</th>\n",
       "      <th>Mean_Annual_Salary</th>\n",
       "      <th>New_Occupation_Categories</th>\n",
       "    </tr>\n",
       "  </thead>\n",
       "  <tbody>\n",
       "    <tr>\n",
       "      <th>0</th>\n",
       "      <td>11-0000</td>\n",
       "      <td>Management Occupations</td>\n",
       "      <td>1999</td>\n",
       "      <td>Seattle Metro</td>\n",
       "      <td>75900</td>\n",
       "      <td>76940</td>\n",
       "      <td>Management</td>\n",
       "    </tr>\n",
       "    <tr>\n",
       "      <th>1</th>\n",
       "      <td>13-0000</td>\n",
       "      <td>Business and Financial Operations Occupations</td>\n",
       "      <td>1999</td>\n",
       "      <td>Seattle Metro</td>\n",
       "      <td>72680</td>\n",
       "      <td>52140</td>\n",
       "      <td>Other Occupations</td>\n",
       "    </tr>\n",
       "    <tr>\n",
       "      <th>2</th>\n",
       "      <td>15-0000</td>\n",
       "      <td>Computer and Mathematical Occupations</td>\n",
       "      <td>1999</td>\n",
       "      <td>Seattle Metro</td>\n",
       "      <td>66300</td>\n",
       "      <td>57190</td>\n",
       "      <td>Computer and Mathematical Sciense</td>\n",
       "    </tr>\n",
       "    <tr>\n",
       "      <th>3</th>\n",
       "      <td>17-0000</td>\n",
       "      <td>Architecture and Engineering Occupations</td>\n",
       "      <td>1999</td>\n",
       "      <td>Seattle Metro</td>\n",
       "      <td>54930</td>\n",
       "      <td>59150</td>\n",
       "      <td>Other Occupations</td>\n",
       "    </tr>\n",
       "    <tr>\n",
       "      <th>4</th>\n",
       "      <td>19-0000</td>\n",
       "      <td>Life, Physical, and Social Science Occupations</td>\n",
       "      <td>1999</td>\n",
       "      <td>Seattle Metro</td>\n",
       "      <td>17330</td>\n",
       "      <td>49190</td>\n",
       "      <td>Other Occupations</td>\n",
       "    </tr>\n",
       "  </tbody>\n",
       "</table>\n",
       "</div>"
      ],
      "text/plain": [
       "  Occupation_Category_Code                        Occupation_Category_Name  \\\n",
       "0                  11-0000                          Management Occupations   \n",
       "1                  13-0000   Business and Financial Operations Occupations   \n",
       "2                  15-0000           Computer and Mathematical Occupations   \n",
       "3                  17-0000        Architecture and Engineering Occupations   \n",
       "4                  19-0000  Life, Physical, and Social Science Occupations   \n",
       "\n",
       "   Year Geographical_Area_Name  Total_Employees_Per_Category  \\\n",
       "0  1999          Seattle Metro                         75900   \n",
       "1  1999          Seattle Metro                         72680   \n",
       "2  1999          Seattle Metro                         66300   \n",
       "3  1999          Seattle Metro                         54930   \n",
       "4  1999          Seattle Metro                         17330   \n",
       "\n",
       "   Mean_Annual_Salary          New_Occupation_Categories  \n",
       "0               76940                         Management  \n",
       "1               52140                  Other Occupations  \n",
       "2               57190  Computer and Mathematical Sciense  \n",
       "3               59150                  Other Occupations  \n",
       "4               49190                  Other Occupations  "
      ]
     },
     "execution_count": 10,
     "metadata": {},
     "output_type": "execute_result"
    }
   ],
   "source": [
    "organized_df.loc[organized_df.Occupation_Category_Code == '15-0000',\n",
    "                 'New_Occupation_Categories'] = 'Computer and Mathematical Sciense' \n",
    "organized_df.loc[organized_df.Occupation_Category_Code == '11-0000',\n",
    "                 'New_Occupation_Categories'] = 'Management' \n",
    "organized_df.loc[organized_df.Occupation_Category_Code == '41-0000',\n",
    "                 'New_Occupation_Categories'] = 'Sales' \n",
    "organized_df.loc[(organized_df.Occupation_Category_Code != '15-0000') & \n",
    "                 (organized_df.Occupation_Category_Code != '11-0000') & \n",
    "                 (organized_df.Occupation_Category_Code != '41-0000'),\n",
    "                 'New_Occupation_Categories'] = 'Other Occupations'\n",
    "organized_df.loc[organized_df.Geographical_Area_Name != 'US',\n",
    "                 'Geographical_Area_Name'] = 'Seattle Metro' \n",
    "\n",
    "organized_df.head()"
   ]
  },
  {
   "cell_type": "code",
   "execution_count": 11,
   "metadata": {},
   "outputs": [],
   "source": [
    "Seattle_1999 = organized_df.loc[(organized_df[\"Geographical_Area_Name\"] == \"Seattle Metro\") & \n",
    "                                (organized_df[\"Year\"] == \"1999\")]\n",
    "Seattle_2017 = organized_df.loc[(organized_df[\"Geographical_Area_Name\"] == \"Seattle Metro\") & \n",
    "                                (organized_df[\"Year\"] == \"2017\")]\n",
    "Us_National_1999 = organized_df.loc[(organized_df[\"Geographical_Area_Name\"] == \"US\") & \n",
    "                                (organized_df[\"Year\"] == \"1999\")]\n",
    "Us_National_2017 = organized_df.loc[(organized_df[\"Geographical_Area_Name\"] == \"US\") & \n",
    "                                (organized_df[\"Year\"] == \"2017\")]\n"
   ]
  },
  {
   "cell_type": "code",
   "execution_count": 12,
   "metadata": {},
   "outputs": [],
   "source": [
    "# Calculate Type Percents\n",
    "Seattle_1999_grouped = Seattle_1999.groupby(['New_Occupation_Categories']).sum()\n",
    "\n",
    "Seattle_2017_grouped = Seattle_2017.groupby(['New_Occupation_Categories']).sum()\n",
    "\n",
    "Us_National_1999_grouped = Us_National_1999.groupby(['New_Occupation_Categories']).sum()\n",
    "\n",
    "Us_National_2017_grouped = Us_National_2017.groupby(['New_Occupation_Categories']).sum()\n"
   ]
  },
  {
   "cell_type": "code",
   "execution_count": 13,
   "metadata": {},
   "outputs": [],
   "source": [
    "# Build Pie Chart\n",
    "\n",
    "# Labels for the sections of our pie chart\n",
    "labels = [\"Computer\",\"Management\",\"Other Occupations\", \"Sales\"]\n",
    "\n",
    "# The values of each section of the pie chart\n",
    "sizes_Seattle_1999 = Seattle_1999_grouped[\"Total_Employees_Per_Category\"]\n",
    "\n",
    "sizes_Seattle_2017 = Seattle_2017_grouped[\"Total_Employees_Per_Category\"]\n",
    "\n",
    "sizes_Us_National_1999 = Us_National_1999_grouped[\"Total_Employees_Per_Category\"]\n",
    "\n",
    "sizes_Us_National_2017 = Us_National_2017_grouped[\"Total_Employees_Per_Category\"]\n",
    "\n",
    "# The colors of each section of the pie chart\n",
    "colors = [\"Gold\", \"lightskyblue\", \"lightcoral\" , \"Green\"]\n",
    "\n",
    "# Tells matplotlib to seperate the \"Python\" section from the others\n",
    "explode = (0.2, 0, 0,0)\n",
    "\n"
   ]
  },
  {
   "cell_type": "code",
   "execution_count": 14,
   "metadata": {},
   "outputs": [
    {
     "data": {
      "image/png": "[encoded data removed]",
      "text/plain": [
       "<Figure size 432x288 with 1 Axes>"
      ]
     },
     "metadata": {},
     "output_type": "display_data"
    }
   ],
   "source": [
    "plt.pie(sizes_Seattle_1999, explode=explode, labels=labels, colors=colors,\n",
    "        autopct=\"%1.1f%%\", shadow=True, startangle=140)\n",
    "\n",
    "plt.title(\"Seattle job market 1999\")\n",
    "# Save Figure\n",
    "plt.savefig(\"Seattle_1999.png\")"
   ]
  },
  {
   "cell_type": "code",
   "execution_count": 15,
   "metadata": {},
   "outputs": [
    {
     "data": {
      "image/png": "[encoded data removed]",
      "text/plain": [
       "<Figure size 432x288 with 1 Axes>"
      ]
     },
     "metadata": {},
     "output_type": "display_data"
    }
   ],
   "source": [
    "plt.pie(sizes_Seattle_2017, explode=explode, labels=labels, colors=colors,\n",
    "        autopct=\"%1.1f%%\", shadow=True, startangle=140)\n",
    "plt.title(\"Seattle job market 2017\")\n",
    "# Save Figure\n",
    "plt.savefig(\"Seattle_2017.png\")"
   ]
  },
  {
   "cell_type": "code",
   "execution_count": 16,
   "metadata": {},
   "outputs": [
    {
     "data": {
      "image/png": "[encoded data removed]",
      "text/plain": [
       "<Figure size 432x288 with 1 Axes>"
      ]
     },
     "metadata": {},
     "output_type": "display_data"
    }
   ],
   "source": [
    "plt.pie(sizes_Us_National_1999, explode=explode, labels=labels, colors=colors,\n",
    "        autopct=\"%1.1f%%\", shadow=True, startangle=140)\n",
    "plt.title(\"US National job market 1999\")\n",
    "# Save Figure\n",
    "plt.savefig(\"US_National_1999.png\")"
   ]
  },
  {
   "cell_type": "code",
   "execution_count": 17,
   "metadata": {},
   "outputs": [
    {
     "data": {
      "image/png": "[encoded data removed]",
      "text/plain": [
       "<Figure size 432x288 with 1 Axes>"
      ]
     },
     "metadata": {},
     "output_type": "display_data"
    }
   ],
   "source": [
    "plt.pie(sizes_Us_National_2017, explode=explode, labels=labels, colors=colors,\n",
    "        autopct=\"%1.1f%%\", shadow=True, startangle=140)\n",
    "plt.title(\"US National job market 2017\")\n",
    "# Save Figure\n",
    "plt.savefig(\"US_National_2017.png\")"
   ]
  },
  {
   "cell_type": "code",
   "execution_count": 18,
   "metadata": {},
   "outputs": [
    {
     "data": {
      "text/html": [
       "<div>\n",
       "<style scoped>\n",
       "    .dataframe tbody tr th:only-of-type {\n",
       "        vertical-align: middle;\n",
       "    }\n",
       "\n",
       "    .dataframe tbody tr th {\n",
       "        vertical-align: top;\n",
       "    }\n",
       "\n",
       "    .dataframe thead th {\n",
       "        text-align: right;\n",
       "    }\n",
       "</style>\n",
       "<table border=\"1\" class=\"dataframe\">\n",
       "  <thead>\n",
       "    <tr style=\"text-align: right;\">\n",
       "      <th></th>\n",
       "      <th>Occupation_Category_Code</th>\n",
       "      <th>Occupation_Category_Name</th>\n",
       "      <th>Year</th>\n",
       "      <th>Geographical_Area_Name</th>\n",
       "      <th>Total_Employees_Per_Category</th>\n",
       "      <th>Mean_Annual_Salary</th>\n",
       "      <th>New_Occupation_Categories</th>\n",
       "    </tr>\n",
       "  </thead>\n",
       "  <tbody>\n",
       "    <tr>\n",
       "      <th>0</th>\n",
       "      <td>11-0000</td>\n",
       "      <td>Management Occupations</td>\n",
       "      <td>1999</td>\n",
       "      <td>Seattle Metro</td>\n",
       "      <td>75900</td>\n",
       "      <td>76940</td>\n",
       "      <td>Management</td>\n",
       "    </tr>\n",
       "    <tr>\n",
       "      <th>1</th>\n",
       "      <td>13-0000</td>\n",
       "      <td>Business and Financial Operations Occupations</td>\n",
       "      <td>1999</td>\n",
       "      <td>Seattle Metro</td>\n",
       "      <td>72680</td>\n",
       "      <td>52140</td>\n",
       "      <td>Other Occupations</td>\n",
       "    </tr>\n",
       "    <tr>\n",
       "      <th>2</th>\n",
       "      <td>15-0000</td>\n",
       "      <td>Computer and Mathematical Occupations</td>\n",
       "      <td>1999</td>\n",
       "      <td>Seattle Metro</td>\n",
       "      <td>66300</td>\n",
       "      <td>57190</td>\n",
       "      <td>Computer and Mathematical Sciense</td>\n",
       "    </tr>\n",
       "    <tr>\n",
       "      <th>3</th>\n",
       "      <td>17-0000</td>\n",
       "      <td>Architecture and Engineering Occupations</td>\n",
       "      <td>1999</td>\n",
       "      <td>Seattle Metro</td>\n",
       "      <td>54930</td>\n",
       "      <td>59150</td>\n",
       "      <td>Other Occupations</td>\n",
       "    </tr>\n",
       "    <tr>\n",
       "      <th>4</th>\n",
       "      <td>19-0000</td>\n",
       "      <td>Life, Physical, and Social Science Occupations</td>\n",
       "      <td>1999</td>\n",
       "      <td>Seattle Metro</td>\n",
       "      <td>17330</td>\n",
       "      <td>49190</td>\n",
       "      <td>Other Occupations</td>\n",
       "    </tr>\n",
       "  </tbody>\n",
       "</table>\n",
       "</div>"
      ],
      "text/plain": [
       "  Occupation_Category_Code                        Occupation_Category_Name  \\\n",
       "0                  11-0000                          Management Occupations   \n",
       "1                  13-0000   Business and Financial Operations Occupations   \n",
       "2                  15-0000           Computer and Mathematical Occupations   \n",
       "3                  17-0000        Architecture and Engineering Occupations   \n",
       "4                  19-0000  Life, Physical, and Social Science Occupations   \n",
       "\n",
       "   Year Geographical_Area_Name  Total_Employees_Per_Category  \\\n",
       "0  1999          Seattle Metro                         75900   \n",
       "1  1999          Seattle Metro                         72680   \n",
       "2  1999          Seattle Metro                         66300   \n",
       "3  1999          Seattle Metro                         54930   \n",
       "4  1999          Seattle Metro                         17330   \n",
       "\n",
       "   Mean_Annual_Salary          New_Occupation_Categories  \n",
       "0               76940                         Management  \n",
       "1               52140                  Other Occupations  \n",
       "2               57190  Computer and Mathematical Sciense  \n",
       "3               59150                  Other Occupations  \n",
       "4               49190                  Other Occupations  "
      ]
     },
     "execution_count": 18,
     "metadata": {},
     "output_type": "execute_result"
    }
   ],
   "source": [
    "organized_df.head()"
   ]
  },
  {
   "cell_type": "code",
   "execution_count": 19,
   "metadata": {},
   "outputs": [
    {
     "data": {
      "text/plain": [
       "Other Occupations                    266\n",
       "Management                            14\n",
       "Sales                                 14\n",
       "Computer and Mathematical Sciense     14\n",
       "Name: New_Occupation_Categories, dtype: int64"
      ]
     },
     "execution_count": 19,
     "metadata": {},
     "output_type": "execute_result"
    }
   ],
   "source": [
    "organized_df['New_Occupation_Categories'].value_counts()"
   ]
  },
  {
   "cell_type": "code",
   "execution_count": 20,
   "metadata": {},
   "outputs": [],
   "source": [
    "Computer_Seattle = organized_df.loc[(organized_df[\"New_Occupation_Categories\"] == \"Computer and Mathematical Sciense\")&\n",
    "                                    (organized_df[\"Geographical_Area_Name\"] == \"Seattle Metro\")].sort_values([\"Year\"])\n",
    "Computer_Us_National = organized_df.loc[(organized_df[\"New_Occupation_Categories\"] == \"Computer and Mathematical Sciense\")&\n",
    "                                    (organized_df[\"Geographical_Area_Name\"] == \"US\")].sort_values([\"Year\"])\n",
    "Management_Seattle = organized_df.loc[(organized_df[\"New_Occupation_Categories\"] == \"Management\")&\n",
    "                             (organized_df[\"Geographical_Area_Name\"] == \"Seattle Metro\")].sort_values([\"Year\"])\n",
    "Management_Us_National = organized_df.loc[(organized_df[\"New_Occupation_Categories\"] == \"Management\")&\n",
    "                             (organized_df[\"Geographical_Area_Name\"] == \"US\")].sort_values([\"Year\"])\n",
    "Other_Seattle = organized_df.loc[(organized_df[\"New_Occupation_Categories\"] == \"Other Occupations\")&\n",
    "                         (organized_df[\"Geographical_Area_Name\"] == \"Seattle Metro\")].sort_values([\"Year\"])\n",
    "Other_Us_National = organized_df.loc[(organized_df[\"New_Occupation_Categories\"] == \"Other Occupations\")&\n",
    "                         (organized_df[\"Geographical_Area_Name\"] == \"US\")].sort_values([\"Year\"])\n",
    "Sales_Seattle = organized_df.loc[(organized_df[\"New_Occupation_Categories\"] == \"Sales\")&\n",
    "                        (organized_df[\"Geographical_Area_Name\"] == \"Seattle Metro\")].sort_values([\"Year\"])\n",
    "Sales_Us_National = organized_df.loc[(organized_df[\"New_Occupation_Categories\"] == \"Sales\")&\n",
    "                        (organized_df[\"Geographical_Area_Name\"] == \"US\")].sort_values([\"Year\"])\n"
   ]
  },
  {
   "cell_type": "code",
   "execution_count": 21,
   "metadata": {},
   "outputs": [
    {
     "data": {
      "image/png": "[encoded data removed]",
      "text/plain": [
       "<Figure size 432x288 with 1 Axes>"
      ]
     },
     "metadata": {
      "needs_background": "light"
     },
     "output_type": "display_data"
    }
   ],
   "source": [
    "XComputer_Seattle = Computer_Seattle[\"Mean_Annual_Salary\"]\n",
    "XComputer_Us_National = Computer_Us_National[\"Mean_Annual_Salary\"]\n",
    "XManagement_Seattle = Management_Seattle[\"Mean_Annual_Salary\"]\n",
    "XManagement_Us_National = Management_Us_National[\"Mean_Annual_Salary\"]\n",
    "XOther_Seattle = Other_Seattle[\"Mean_Annual_Salary\"]\n",
    "XOther_Us_National = Other_Us_National[\"Mean_Annual_Salary\"]\n",
    "XSales_Seattle = Sales_Seattle[\"Mean_Annual_Salary\"]\n",
    "XSales_Us_National = Sales_Us_National[\"Mean_Annual_Salary\"]\n",
    "\n",
    "bar_w = 0.1\n",
    "x_axis = np.arange(len(XComputer_Seattle))\n",
    "plt.bar(x_axis, XComputer_Seattle , color='blue', zorder=2,label=\"Seattle\")\n",
    "plt.bar(x_axis+bar_w, XComputer_Us_National , color='orange',zorder=2, label=\"US National\")\n",
    "plt.xticks(x_axis+bar_w*2, Computer_Seattle[\"Year\"])\n",
    "# Sets the x limits of the current chart\n",
    "plt.xlim(-0.75, len(x_axis)-0.25)\n",
    "# Sets the y limits of the current chart\n",
    "plt.ylim(0, max(XComputer_Seattle)+20000)\n",
    "# Give our chart some labels and a tile\n",
    "plt.title(\"Computer Sciense average annual salaries Seattle VS. US National\")\n",
    "plt.xlabel(\"Year\")\n",
    "plt.ylabel(\"Average Annual Salary\")\n",
    "plt.grid()\n",
    "plt.legend(loc=\"upper left\")\n",
    "# Save Figure\n",
    "plt.savefig(\"Computer.png\")"
   ]
  },
  {
   "cell_type": "code",
   "execution_count": 22,
   "metadata": {},
   "outputs": [
    {
     "data": {
      "image/png": "[encoded data removed]",
      "text/plain": [
       "<Figure size 432x288 with 1 Axes>"
      ]
     },
     "metadata": {
      "needs_background": "light"
     },
     "output_type": "display_data"
    }
   ],
   "source": [
    "plt.bar(x_axis, XManagement_Seattle , color='blue', zorder=2,label=\"Seattle\")\n",
    "plt.bar(x_axis+bar_w, XManagement_Us_National , color='orange',zorder=2, label=\"US National\")\n",
    "plt.xticks(x_axis+bar_w*2, Computer_Seattle[\"Year\"])\n",
    "# Sets the x limits of the current chart\n",
    "plt.xlim(-0.75, len(x_axis)-0.25)\n",
    "# Sets the y limits of the current chart\n",
    "plt.ylim(0, max(XManagement_Seattle)+20000)\n",
    "# Give our chart some labels and a tile\n",
    "plt.title(\"Management average annual salaries Seattle VS. US National\")\n",
    "plt.xlabel(\"Year\")\n",
    "plt.ylabel(\"Average Annual Salary\")\n",
    "plt.grid()\n",
    "plt.legend(loc=\"upper left\")\n",
    "# Save Figure\n",
    "plt.savefig(\"Management.png\")"
   ]
  },
  {
   "cell_type": "code",
   "execution_count": 23,
   "metadata": {},
   "outputs": [
    {
     "data": {
      "image/png": "[encoded data removed]",
      "text/plain": [
       "<Figure size 432x288 with 1 Axes>"
      ]
     },
     "metadata": {
      "needs_background": "light"
     },
     "output_type": "display_data"
    }
   ],
   "source": [
    "plt.bar(x_axis, XSales_Seattle , color='blue', zorder=2,label=\"Seattle\")\n",
    "plt.bar(x_axis+bar_w, XSales_Us_National , color='orange',zorder=2, label=\"US National\")\n",
    "plt.xticks(x_axis+bar_w*2, Computer_Seattle[\"Year\"])\n",
    "# Sets the x limits of the current chart\n",
    "plt.xlim(-0.75, len(x_axis)-0.25)\n",
    "# Sets the y limits of the current chart\n",
    "plt.ylim(0, max(XSales_Seattle)+20000)\n",
    "# Give our chart some labels and a tile\n",
    "plt.title(\"Sales average anual salaries Seattle VS. US National\")\n",
    "plt.xlabel(\"Year\")\n",
    "plt.ylabel(\"Average Annual Salary\")\n",
    "plt.grid()\n",
    "plt.legend(loc=\"upper left\")\n",
    "# Save Figure\n",
    "plt.savefig(\"Sales.png\")"
   ]
  },
  {
   "cell_type": "code",
   "execution_count": null,
   "metadata": {},
   "outputs": [],
   "source": []
  },
  {
   "cell_type": "code",
   "execution_count": null,
   "metadata": {},
   "outputs": [],
   "source": []
  },
  {
   "cell_type": "code",
   "execution_count": null,
   "metadata": {},
   "outputs": [],
   "source": []
  },
  {
   "cell_type": "code",
   "execution_count": null,
   "metadata": {},
   "outputs": [],
   "source": []
  }
 ],
 "metadata": {
  "anaconda-cloud": {},
  "kernelspec": {
   "display_name": "Python 3",
   "language": "python",
   "name": "python3"
  },
  "language_info": {
   "codemirror_mode": {
    "name": "ipython",
    "version": 3
   },
   "file_extension": ".py",
   "mimetype": "text/x-python",
   "name": "python",
   "nbconvert_exporter": "python",
   "pygments_lexer": "ipython3",
   "version": "3.7.0"
  }
 },
 "nbformat": 4,
 "nbformat_minor": 2
}
